{
 "cells": [
  {
   "cell_type": "code",
   "execution_count": 1,
   "metadata": {},
   "outputs": [],
   "source": [
    "from http.server import BaseHTTPRequestHandler, HTTPServer\n",
    "import socketserver\n",
    "import prediction\n",
    "import time \n",
    "import random\n",
    "import string\n",
    "from urllib.parse import urlparse, parse_qs\n",
    "\n",
    "hostName = \"localhost\"\n",
    "hostPort = 9453\n",
    "def makeTokens(f):\n",
    "    tokens = []\n",
    "    for i in f:\n",
    "        tokens.append(i)\n",
    "    return tokens"
   ]
  },
  {
   "cell_type": "code",
   "execution_count": null,
   "metadata": {},
   "outputs": [
    {
     "name": "stdout",
     "output_type": "stream",
     "text": [
      "Tue Jul 23 15:34:04 2019 Server Starts - localhost:9453\n"
     ]
    }
   ],
   "source": [
    "class S(BaseHTTPRequestHandler):\n",
    "    def generateStrongPassword(self, chars=string.printable[0:91]):\n",
    "        return ''.join(random.choice(chars) for i in range(random.choice(range(9,14))))\n",
    "    def getLevel(self, password):\n",
    "        makeTokens=prediction.makeTokens\n",
    "        return prediction.get_security(password)\n",
    "        \n",
    "    def do_GET(self):\n",
    "        query_components = parse_qs(urlparse(self.path).query)\n",
    "        print(self.path)\n",
    "        if 'password' in self.path:\n",
    "            if query_components!={}:\n",
    "                password = query_components['password'][0]\n",
    "                res=self.getLevel(password)\n",
    "        else:\n",
    "            res=self.generateStrongPassword()\n",
    "        self.send_response(200)\n",
    "        self.send_header('Content-type', 'text/html')\n",
    "        self.end_headers()\n",
    "            \n",
    "        self.wfile.write(bytes(str(res),\"utf-8\")) \n",
    "\n",
    "myServer = HTTPServer((hostName, hostPort), S)\n",
    "print(time.asctime(), \"Server Starts - %s:%s\" % (hostName, hostPort))\n",
    "try:\n",
    "    myServer.serve_forever()\n",
    "except KeyboardInterrupt:\n",
    "    pass\n",
    "myServer.server_close()\n"
   ]
  },
  {
   "cell_type": "code",
   "execution_count": null,
   "metadata": {},
   "outputs": [],
   "source": []
  },
  {
   "cell_type": "code",
   "execution_count": null,
   "metadata": {},
   "outputs": [],
   "source": []
  }
 ],
 "metadata": {
  "kernelspec": {
   "display_name": "Python 3",
   "language": "python",
   "name": "python3"
  },
  "language_info": {
   "codemirror_mode": {
    "name": "ipython",
    "version": 3
   },
   "file_extension": ".py",
   "mimetype": "text/x-python",
   "name": "python",
   "nbconvert_exporter": "python",
   "pygments_lexer": "ipython3",
   "version": "3.7.0"
  }
 },
 "nbformat": 4,
 "nbformat_minor": 2
}
